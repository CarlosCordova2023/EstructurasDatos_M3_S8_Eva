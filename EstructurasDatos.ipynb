{
  "nbformat": 4,
  "nbformat_minor": 0,
  "metadata": {
    "colab": {
      "provenance": [],
      "authorship_tag": "ABX9TyO+fyAM9VTrbmsnsODwwW2r",
      "include_colab_link": true
    },
    "kernelspec": {
      "name": "python3",
      "display_name": "Python 3"
    },
    "language_info": {
      "name": "python"
    }
  },
  "cells": [
    {
      "cell_type": "markdown",
      "metadata": {
        "id": "view-in-github",
        "colab_type": "text"
      },
      "source": [
        "<a href=\"https://colab.research.google.com/github/CarlosCordova2023/EstructurasDatos_M3_S8_Eva/blob/main/EstructurasDatos.ipynb\" target=\"_parent\"><img src=\"https://colab.research.google.com/assets/colab-badge.svg\" alt=\"Open In Colab\"/></a>"
      ]
    },
    {
      "cell_type": "code",
      "execution_count": 1,
      "metadata": {
        "colab": {
          "base_uri": "https://localhost:8080/"
        },
        "id": "Bw3cMOAlkkdA",
        "outputId": "e6711cbd-3104-4bc3-c95f-93acd8d315f5"
      },
      "outputs": [
        {
          "output_type": "stream",
          "name": "stdout",
          "text": [
            "1 2 3 \n",
            "4 1 \n",
            "6 5 4 \n",
            "A: [1, 2, 3]\n",
            "B: [0, 4, 5]\n",
            "C: [4, 0, 1]\n",
            "D: [6, 5, 4]\n"
          ]
        }
      ],
      "source": [
        "\n",
        "datos = [[1, 2, 3], [0, 4, 5], [4, 0, 1], [6, 5, 4]]\n",
        "\n",
        "\n",
        "diccionario = {\n",
        "    'A': datos[0],\n",
        "    'B': datos[1],\n",
        "    'C': datos[2],\n",
        "    'D': datos[3]\n",
        "}\n",
        "\n",
        "for sublista in datos:\n",
        "\n",
        "    if sublista[0] == 0:\n",
        "        continue\n",
        "\n",
        "    for numero in sublista:\n",
        "        if numero != 0:\n",
        "            print(numero, end=\" \")\n",
        "    print()\n",
        "\n",
        "\n",
        "for clave, valor in diccionario.items():\n",
        "    print(f\"{clave}: {valor}\")\n"
      ]
    }
  ]
}